{
 "cells": [
  {
   "cell_type": "markdown",
   "id": "0949881c-dc67-4b4a-9a23-cf40c58f507c",
   "metadata": {},
   "source": [
    "<h1>UK ROAD ACCIDENT DATA ANALYSIS</h1>\n",
    "\n",
    "<h2>INCLUSIVE YEAR 2019-2022</h2>\n",
    "\n",
    "<H3>Analyst : Randel Jonh Lontok</H3>\n",
    "<hr>"
   ]
  },
  {
   "cell_type": "markdown",
   "id": "fdd13695-5b52-44cd-a026-3888533c42bf",
   "metadata": {},
   "source": [
    "<h2>Data Preparation</h2>\n",
    "\n",
    "<h3>Importing Libraries</h3>\n",
    "\n",
    "<hr>"
   ]
  },
  {
   "cell_type": "code",
   "execution_count": 1,
   "id": "851e8e43-4874-4181-8a01-f2e95e3cdfa5",
   "metadata": {},
   "outputs": [],
   "source": [
    "import numpy as np\n",
    "import pandas as pd\n",
    "import seaborn as sns\n",
    "import matplotlib.pyplot as plt\n",
    "from scipy.stats import f_oneway\n",
    "import warnings\n",
    "warnings.filterwarnings('ignore')"
   ]
  },
  {
   "cell_type": "markdown",
   "id": "2d17e4fc-2488-4232-9e0d-5969dba7527d",
   "metadata": {},
   "source": [
    "<h2>Data Frame</h2>\n",
    "<hr>"
   ]
  },
  {
   "cell_type": "code",
   "execution_count": 20,
   "id": "9f6e817f-35c3-4935-a823-9085c74d6c10",
   "metadata": {},
   "outputs": [],
   "source": [
    "accident = pd.read_csv('datasets//accident_data.csv')"
   ]
  },
  {
   "cell_type": "markdown",
   "id": "66176237-c7f3-4c00-91a3-b8a2efcc816f",
   "metadata": {},
   "source": [
    "<h3>Data Cleansing</h3>\n",
    "\n",
    "<hr>"
   ]
  },
  {
   "cell_type": "code",
   "execution_count": 21,
   "id": "1a941e89-17f9-4e20-bd77-a90fed950721",
   "metadata": {},
   "outputs": [
    {
     "data": {
      "text/plain": [
       "Index                          0\n",
       "Accident_Severity              0\n",
       "Accident Date                  0\n",
       "Latitude                      25\n",
       "Light_Conditions               0\n",
       "District Area                  0\n",
       "Longitude                     26\n",
       "Number_of_Casualties           0\n",
       "Number_of_Vehicles             0\n",
       "Road_Surface_Conditions      726\n",
       "Road_Type                   4520\n",
       "Urban_or_Rural_Area           15\n",
       "Weather_Conditions         14128\n",
       "Vehicle_Type                   0\n",
       "dtype: int64"
      ]
     },
     "execution_count": 21,
     "metadata": {},
     "output_type": "execute_result"
    }
   ],
   "source": [
    "accident.isnull().sum()"
   ]
  },
  {
   "cell_type": "code",
   "execution_count": 22,
   "id": "0879ce4a-36f2-4b99-a4f0-a72d3cc1fe0c",
   "metadata": {},
   "outputs": [],
   "source": [
    "accident['Latitude'] = accident['Latitude'].fillna(accident['Latitude'].mode()[0])\n",
    "accident['Longitude'] = accident['Longitude'].fillna(accident['Longitude'].mode()[0])\n",
    "accident['Road_Surface_Conditions'] = accident['Road_Surface_Conditions'].fillna('unaccounted')\n",
    "accident['Road_Type'] = accident['Road_Type'].fillna('unaccounted')\n",
    "accident['Weather_Conditions'] = accident['Weather_Conditions'].fillna('unaccounted')\n",
    "accident['Urban_or_Rural_Area'] = accident['Urban_or_Rural_Area'].fillna(accident['Urban_or_Rural_Area'].mode()[0])"
   ]
  },
  {
   "cell_type": "markdown",
   "id": "2bfdcf5d-95d7-42b4-92ac-976a7f5a1e6f",
   "metadata": {},
   "source": [
    "<h2>Categorical Data Fields</h2>\n",
    "\n",
    "<hr>"
   ]
  },
  {
   "cell_type": "code",
   "execution_count": 23,
   "id": "7bdd11bf-a611-4c91-88d0-2290f95ebae7",
   "metadata": {},
   "outputs": [
    {
     "data": {
      "text/plain": [
       "Index                       object\n",
       "Accident_Severity           object\n",
       "Accident Date               object\n",
       "Latitude                   float64\n",
       "Light_Conditions            object\n",
       "District Area               object\n",
       "Longitude                  float64\n",
       "Number_of_Casualties         int64\n",
       "Number_of_Vehicles           int64\n",
       "Road_Surface_Conditions     object\n",
       "Road_Type                   object\n",
       "Urban_or_Rural_Area         object\n",
       "Weather_Conditions          object\n",
       "Vehicle_Type                object\n",
       "dtype: object"
      ]
     },
     "execution_count": 23,
     "metadata": {},
     "output_type": "execute_result"
    }
   ],
   "source": [
    "accident.dtypes"
   ]
  },
  {
   "cell_type": "code",
   "execution_count": 24,
   "id": "60600602-47da-458d-a929-8dc3bda7d8d3",
   "metadata": {},
   "outputs": [],
   "source": [
    "accident['Accident_Severity'] = accident['Accident_Severity'].astype('category')\n",
    "accident['Latitude'] = accident['Latitude'].astype('category')\n",
    "accident['Longitude'] = accident['Longitude'].astype('category')\n",
    "accident['Light_Conditions'] = accident['Light_Conditions'].astype('category')\n",
    "accident['District Area'] = accident['District Area'].astype('category')\n",
    "accident['Number_of_Casualties'] = accident['Number_of_Casualties'].astype('int')\n",
    "accident['Number_of_Vehicles'] = accident['Number_of_Vehicles'].astype('int')\n",
    "accident['Road_Surface_Conditions'] = accident['Road_Surface_Conditions'].astype('category')\n",
    "accident['Road_Type'] = accident['Road_Type'].astype('category')\n",
    "accident['Urban_or_Rural_Area'] = accident['Urban_or_Rural_Area'].astype('category')\n",
    "accident['Weather_Conditions'] = accident['Weather_Conditions'].astype('category')\n",
    "accident['Vehicle_Type'] = accident['Vehicle_Type'].astype('category')"
   ]
  },
  {
   "cell_type": "markdown",
   "id": "cf0ec80e-1e9d-4241-919a-45d7850b3ec5",
   "metadata": {},
   "source": [
    "<h3>Converting Data Field into DATE TIME data type</h3>"
   ]
  },
  {
   "cell_type": "code",
   "execution_count": 25,
   "id": "dfa24e4a-b22d-4a87-8128-b91733cc683a",
   "metadata": {},
   "outputs": [],
   "source": [
    "# accident['Accident Date'] = accident['Accident Date'].astype('str')\n",
    "#remove spaces 20 / 02 / 2025\n",
    "accident['Accident Date'] = accident['Accident Date'].str.strip()\n",
    "#replace / with -\n",
    "accident['Accident Date'] = accident['Accident Date'].str.replace('/','-')"
   ]
  },
  {
   "cell_type": "code",
   "execution_count": 26,
   "id": "489c7a71-05c5-4ec6-9bf6-754cb9488cc7",
   "metadata": {},
   "outputs": [
    {
     "data": {
      "text/plain": [
       "Index                        object\n",
       "Accident_Severity          category\n",
       "Accident Date                object\n",
       "Latitude                   category\n",
       "Light_Conditions           category\n",
       "District Area              category\n",
       "Longitude                  category\n",
       "Number_of_Casualties          int64\n",
       "Number_of_Vehicles            int64\n",
       "Road_Surface_Conditions    category\n",
       "Road_Type                  category\n",
       "Urban_or_Rural_Area        category\n",
       "Weather_Conditions         category\n",
       "Vehicle_Type               category\n",
       "dtype: object"
      ]
     },
     "execution_count": 26,
     "metadata": {},
     "output_type": "execute_result"
    }
   ],
   "source": [
    "accident.dtypes"
   ]
  },
  {
   "cell_type": "code",
   "execution_count": 27,
   "id": "0b814f67-a9e7-4997-b1b6-9c91c77c8b1b",
   "metadata": {},
   "outputs": [],
   "source": [
    "accident['Accident Date'] = pd.to_datetime(accident['Accident Date'], dayfirst = True, errors = \"coerce\")"
   ]
  },
  {
   "cell_type": "code",
   "execution_count": 28,
   "id": "64541306-9395-484a-b3e8-484d35a04dd8",
   "metadata": {},
   "outputs": [
    {
     "data": {
      "text/plain": [
       "Index                      0\n",
       "Accident_Severity          0\n",
       "Accident Date              0\n",
       "Latitude                   0\n",
       "Light_Conditions           0\n",
       "District Area              0\n",
       "Longitude                  0\n",
       "Number_of_Casualties       0\n",
       "Number_of_Vehicles         0\n",
       "Road_Surface_Conditions    0\n",
       "Road_Type                  0\n",
       "Urban_or_Rural_Area        0\n",
       "Weather_Conditions         0\n",
       "Vehicle_Type               0\n",
       "dtype: int64"
      ]
     },
     "execution_count": 28,
     "metadata": {},
     "output_type": "execute_result"
    }
   ],
   "source": [
    "accident.isnull().sum()"
   ]
  },
  {
   "cell_type": "code",
   "execution_count": 29,
   "id": "e21338d0-2a98-4049-9ff0-1ef68eef7daa",
   "metadata": {},
   "outputs": [],
   "source": [
    "accident['Year'] = accident['Accident Date'].dt.year\n",
    "accident['Monthly'] = accident['Accident Date'].dt.month\n",
    "accident['day'] = accident['Accident Date'].dt.day\n",
    "accident['DayOfWeek'] = accident['Accident Date'].dt.dayofweek"
   ]
  },
  {
   "cell_type": "code",
   "execution_count": 30,
   "id": "8dcd5687-6f25-4857-907f-485338348af2",
   "metadata": {},
   "outputs": [
    {
     "data": {
      "text/html": [
       "<div>\n",
       "<style scoped>\n",
       "    .dataframe tbody tr th:only-of-type {\n",
       "        vertical-align: middle;\n",
       "    }\n",
       "\n",
       "    .dataframe tbody tr th {\n",
       "        vertical-align: top;\n",
       "    }\n",
       "\n",
       "    .dataframe thead th {\n",
       "        text-align: right;\n",
       "    }\n",
       "</style>\n",
       "<table border=\"1\" class=\"dataframe\">\n",
       "  <thead>\n",
       "    <tr style=\"text-align: right;\">\n",
       "      <th></th>\n",
       "      <th>Index</th>\n",
       "      <th>Accident_Severity</th>\n",
       "      <th>Accident Date</th>\n",
       "      <th>Latitude</th>\n",
       "      <th>Light_Conditions</th>\n",
       "      <th>District Area</th>\n",
       "      <th>Longitude</th>\n",
       "      <th>Number_of_Casualties</th>\n",
       "      <th>Number_of_Vehicles</th>\n",
       "      <th>Road_Surface_Conditions</th>\n",
       "      <th>Road_Type</th>\n",
       "      <th>Urban_or_Rural_Area</th>\n",
       "      <th>Weather_Conditions</th>\n",
       "      <th>Vehicle_Type</th>\n",
       "      <th>Year</th>\n",
       "      <th>Monthly</th>\n",
       "      <th>day</th>\n",
       "      <th>DayOfWeek</th>\n",
       "    </tr>\n",
       "  </thead>\n",
       "  <tbody>\n",
       "    <tr>\n",
       "      <th>0</th>\n",
       "      <td>200701BS64157</td>\n",
       "      <td>Serious</td>\n",
       "      <td>2019-06-05</td>\n",
       "      <td>51.506187</td>\n",
       "      <td>Darkness - lights lit</td>\n",
       "      <td>Kensington and Chelsea</td>\n",
       "      <td>-0.209082</td>\n",
       "      <td>1</td>\n",
       "      <td>2</td>\n",
       "      <td>Dry</td>\n",
       "      <td>Single carriageway</td>\n",
       "      <td>Urban</td>\n",
       "      <td>Fine no high winds</td>\n",
       "      <td>Car</td>\n",
       "      <td>2019</td>\n",
       "      <td>6</td>\n",
       "      <td>5</td>\n",
       "      <td>2</td>\n",
       "    </tr>\n",
       "    <tr>\n",
       "      <th>1</th>\n",
       "      <td>200701BS65737</td>\n",
       "      <td>Serious</td>\n",
       "      <td>2019-07-02</td>\n",
       "      <td>51.495029</td>\n",
       "      <td>Daylight</td>\n",
       "      <td>Kensington and Chelsea</td>\n",
       "      <td>-0.173647</td>\n",
       "      <td>1</td>\n",
       "      <td>2</td>\n",
       "      <td>Wet or damp</td>\n",
       "      <td>Single carriageway</td>\n",
       "      <td>Urban</td>\n",
       "      <td>Raining no high winds</td>\n",
       "      <td>Car</td>\n",
       "      <td>2019</td>\n",
       "      <td>7</td>\n",
       "      <td>2</td>\n",
       "      <td>1</td>\n",
       "    </tr>\n",
       "    <tr>\n",
       "      <th>2</th>\n",
       "      <td>200701BS66127</td>\n",
       "      <td>Serious</td>\n",
       "      <td>2019-08-26</td>\n",
       "      <td>51.517715</td>\n",
       "      <td>Darkness - lighting unknown</td>\n",
       "      <td>Kensington and Chelsea</td>\n",
       "      <td>-0.210215</td>\n",
       "      <td>1</td>\n",
       "      <td>3</td>\n",
       "      <td>Dry</td>\n",
       "      <td>unaccounted</td>\n",
       "      <td>Urban</td>\n",
       "      <td>unaccounted</td>\n",
       "      <td>Taxi/Private hire car</td>\n",
       "      <td>2019</td>\n",
       "      <td>8</td>\n",
       "      <td>26</td>\n",
       "      <td>0</td>\n",
       "    </tr>\n",
       "    <tr>\n",
       "      <th>3</th>\n",
       "      <td>200701BS66128</td>\n",
       "      <td>Serious</td>\n",
       "      <td>2019-08-16</td>\n",
       "      <td>51.495478</td>\n",
       "      <td>Daylight</td>\n",
       "      <td>Kensington and Chelsea</td>\n",
       "      <td>-0.202731</td>\n",
       "      <td>1</td>\n",
       "      <td>4</td>\n",
       "      <td>Dry</td>\n",
       "      <td>Single carriageway</td>\n",
       "      <td>Urban</td>\n",
       "      <td>Fine no high winds</td>\n",
       "      <td>Bus or coach (17 or more pass seats)</td>\n",
       "      <td>2019</td>\n",
       "      <td>8</td>\n",
       "      <td>16</td>\n",
       "      <td>4</td>\n",
       "    </tr>\n",
       "    <tr>\n",
       "      <th>4</th>\n",
       "      <td>200701BS66837</td>\n",
       "      <td>Slight</td>\n",
       "      <td>2019-09-03</td>\n",
       "      <td>51.488576</td>\n",
       "      <td>Darkness - lights lit</td>\n",
       "      <td>Kensington and Chelsea</td>\n",
       "      <td>-0.192487</td>\n",
       "      <td>1</td>\n",
       "      <td>2</td>\n",
       "      <td>Dry</td>\n",
       "      <td>unaccounted</td>\n",
       "      <td>Urban</td>\n",
       "      <td>unaccounted</td>\n",
       "      <td>Other vehicle</td>\n",
       "      <td>2019</td>\n",
       "      <td>9</td>\n",
       "      <td>3</td>\n",
       "      <td>1</td>\n",
       "    </tr>\n",
       "    <tr>\n",
       "      <th>...</th>\n",
       "      <td>...</td>\n",
       "      <td>...</td>\n",
       "      <td>...</td>\n",
       "      <td>...</td>\n",
       "      <td>...</td>\n",
       "      <td>...</td>\n",
       "      <td>...</td>\n",
       "      <td>...</td>\n",
       "      <td>...</td>\n",
       "      <td>...</td>\n",
       "      <td>...</td>\n",
       "      <td>...</td>\n",
       "      <td>...</td>\n",
       "      <td>...</td>\n",
       "      <td>...</td>\n",
       "      <td>...</td>\n",
       "      <td>...</td>\n",
       "      <td>...</td>\n",
       "    </tr>\n",
       "    <tr>\n",
       "      <th>660674</th>\n",
       "      <td>201091NM01760</td>\n",
       "      <td>Slight</td>\n",
       "      <td>2022-02-18</td>\n",
       "      <td>57.374005</td>\n",
       "      <td>Daylight</td>\n",
       "      <td>Highland</td>\n",
       "      <td>-3.467828</td>\n",
       "      <td>2</td>\n",
       "      <td>1</td>\n",
       "      <td>Dry</td>\n",
       "      <td>Single carriageway</td>\n",
       "      <td>Rural</td>\n",
       "      <td>Fine no high winds</td>\n",
       "      <td>Car</td>\n",
       "      <td>2022</td>\n",
       "      <td>2</td>\n",
       "      <td>18</td>\n",
       "      <td>4</td>\n",
       "    </tr>\n",
       "    <tr>\n",
       "      <th>660675</th>\n",
       "      <td>201091NM01881</td>\n",
       "      <td>Slight</td>\n",
       "      <td>2022-02-21</td>\n",
       "      <td>57.232273</td>\n",
       "      <td>Darkness - no lighting</td>\n",
       "      <td>Highland</td>\n",
       "      <td>-3.809281</td>\n",
       "      <td>1</td>\n",
       "      <td>1</td>\n",
       "      <td>Frost or ice</td>\n",
       "      <td>Single carriageway</td>\n",
       "      <td>Rural</td>\n",
       "      <td>Fine no high winds</td>\n",
       "      <td>Car</td>\n",
       "      <td>2022</td>\n",
       "      <td>2</td>\n",
       "      <td>21</td>\n",
       "      <td>0</td>\n",
       "    </tr>\n",
       "    <tr>\n",
       "      <th>660676</th>\n",
       "      <td>201091NM01935</td>\n",
       "      <td>Slight</td>\n",
       "      <td>2022-02-23</td>\n",
       "      <td>57.585044</td>\n",
       "      <td>Daylight</td>\n",
       "      <td>Highland</td>\n",
       "      <td>-3.862727</td>\n",
       "      <td>1</td>\n",
       "      <td>3</td>\n",
       "      <td>Frost or ice</td>\n",
       "      <td>Single carriageway</td>\n",
       "      <td>Rural</td>\n",
       "      <td>Fine no high winds</td>\n",
       "      <td>Car</td>\n",
       "      <td>2022</td>\n",
       "      <td>2</td>\n",
       "      <td>23</td>\n",
       "      <td>2</td>\n",
       "    </tr>\n",
       "    <tr>\n",
       "      <th>660677</th>\n",
       "      <td>201091NM01964</td>\n",
       "      <td>Serious</td>\n",
       "      <td>2022-02-23</td>\n",
       "      <td>57.214898</td>\n",
       "      <td>Darkness - no lighting</td>\n",
       "      <td>Highland</td>\n",
       "      <td>-3.823997</td>\n",
       "      <td>1</td>\n",
       "      <td>2</td>\n",
       "      <td>Wet or damp</td>\n",
       "      <td>Single carriageway</td>\n",
       "      <td>Rural</td>\n",
       "      <td>Fine no high winds</td>\n",
       "      <td>Motorcycle over 500cc</td>\n",
       "      <td>2022</td>\n",
       "      <td>2</td>\n",
       "      <td>23</td>\n",
       "      <td>2</td>\n",
       "    </tr>\n",
       "    <tr>\n",
       "      <th>660678</th>\n",
       "      <td>201091NM02142</td>\n",
       "      <td>Serious</td>\n",
       "      <td>2022-02-28</td>\n",
       "      <td>57.575210</td>\n",
       "      <td>Daylight</td>\n",
       "      <td>Highland</td>\n",
       "      <td>-3.895673</td>\n",
       "      <td>1</td>\n",
       "      <td>1</td>\n",
       "      <td>Wet or damp</td>\n",
       "      <td>Dual carriageway</td>\n",
       "      <td>Rural</td>\n",
       "      <td>Snowing no high winds</td>\n",
       "      <td>Car</td>\n",
       "      <td>2022</td>\n",
       "      <td>2</td>\n",
       "      <td>28</td>\n",
       "      <td>0</td>\n",
       "    </tr>\n",
       "  </tbody>\n",
       "</table>\n",
       "<p>660679 rows × 18 columns</p>\n",
       "</div>"
      ],
      "text/plain": [
       "                Index Accident_Severity Accident Date   Latitude  \\\n",
       "0       200701BS64157           Serious    2019-06-05  51.506187   \n",
       "1       200701BS65737           Serious    2019-07-02  51.495029   \n",
       "2       200701BS66127           Serious    2019-08-26  51.517715   \n",
       "3       200701BS66128           Serious    2019-08-16  51.495478   \n",
       "4       200701BS66837            Slight    2019-09-03  51.488576   \n",
       "...               ...               ...           ...        ...   \n",
       "660674  201091NM01760            Slight    2022-02-18  57.374005   \n",
       "660675  201091NM01881            Slight    2022-02-21  57.232273   \n",
       "660676  201091NM01935            Slight    2022-02-23  57.585044   \n",
       "660677  201091NM01964           Serious    2022-02-23  57.214898   \n",
       "660678  201091NM02142           Serious    2022-02-28  57.575210   \n",
       "\n",
       "                   Light_Conditions           District Area Longitude  \\\n",
       "0             Darkness - lights lit  Kensington and Chelsea -0.209082   \n",
       "1                          Daylight  Kensington and Chelsea -0.173647   \n",
       "2       Darkness - lighting unknown  Kensington and Chelsea -0.210215   \n",
       "3                          Daylight  Kensington and Chelsea -0.202731   \n",
       "4             Darkness - lights lit  Kensington and Chelsea -0.192487   \n",
       "...                             ...                     ...       ...   \n",
       "660674                     Daylight                Highland -3.467828   \n",
       "660675       Darkness - no lighting                Highland -3.809281   \n",
       "660676                     Daylight                Highland -3.862727   \n",
       "660677       Darkness - no lighting                Highland -3.823997   \n",
       "660678                     Daylight                Highland -3.895673   \n",
       "\n",
       "        Number_of_Casualties  Number_of_Vehicles Road_Surface_Conditions  \\\n",
       "0                          1                   2                     Dry   \n",
       "1                          1                   2             Wet or damp   \n",
       "2                          1                   3                     Dry   \n",
       "3                          1                   4                     Dry   \n",
       "4                          1                   2                     Dry   \n",
       "...                      ...                 ...                     ...   \n",
       "660674                     2                   1                     Dry   \n",
       "660675                     1                   1            Frost or ice   \n",
       "660676                     1                   3            Frost or ice   \n",
       "660677                     1                   2             Wet or damp   \n",
       "660678                     1                   1             Wet or damp   \n",
       "\n",
       "                 Road_Type Urban_or_Rural_Area     Weather_Conditions  \\\n",
       "0       Single carriageway               Urban     Fine no high winds   \n",
       "1       Single carriageway               Urban  Raining no high winds   \n",
       "2              unaccounted               Urban            unaccounted   \n",
       "3       Single carriageway               Urban     Fine no high winds   \n",
       "4              unaccounted               Urban            unaccounted   \n",
       "...                    ...                 ...                    ...   \n",
       "660674  Single carriageway               Rural     Fine no high winds   \n",
       "660675  Single carriageway               Rural     Fine no high winds   \n",
       "660676  Single carriageway               Rural     Fine no high winds   \n",
       "660677  Single carriageway               Rural     Fine no high winds   \n",
       "660678    Dual carriageway               Rural  Snowing no high winds   \n",
       "\n",
       "                                Vehicle_Type  Year  Monthly  day  DayOfWeek  \n",
       "0                                        Car  2019        6    5          2  \n",
       "1                                        Car  2019        7    2          1  \n",
       "2                      Taxi/Private hire car  2019        8   26          0  \n",
       "3       Bus or coach (17 or more pass seats)  2019        8   16          4  \n",
       "4                              Other vehicle  2019        9    3          1  \n",
       "...                                      ...   ...      ...  ...        ...  \n",
       "660674                                   Car  2022        2   18          4  \n",
       "660675                                   Car  2022        2   21          0  \n",
       "660676                                   Car  2022        2   23          2  \n",
       "660677                 Motorcycle over 500cc  2022        2   23          2  \n",
       "660678                                   Car  2022        2   28          0  \n",
       "\n",
       "[660679 rows x 18 columns]"
      ]
     },
     "execution_count": 30,
     "metadata": {},
     "output_type": "execute_result"
    }
   ],
   "source": [
    "accident"
   ]
  },
  {
   "cell_type": "code",
   "execution_count": 31,
   "id": "adcf98bb-b1f0-4198-a840-37cf5fd9adda",
   "metadata": {},
   "outputs": [
    {
     "data": {
      "text/plain": [
       "Year\n",
       "2019    182115\n",
       "2020    170591\n",
       "2021    163554\n",
       "2022    144419\n",
       "Name: count, dtype: int64"
      ]
     },
     "execution_count": 31,
     "metadata": {},
     "output_type": "execute_result"
    }
   ],
   "source": [
    "accident['Year'].value_counts()"
   ]
  },
  {
   "cell_type": "code",
   "execution_count": 32,
   "id": "764d375b-9f00-4c27-bca6-e1e84d78a818",
   "metadata": {},
   "outputs": [],
   "source": [
    "df_2020 = accident[accident['Year'] == 2020]"
   ]
  },
  {
   "cell_type": "markdown",
   "id": "23d003e8-055a-42a3-9780-604ecc637919",
   "metadata": {},
   "source": [
    "<h1>Insight No.1</h1>\n",
    "\n",
    "<h2>Out of the 15 Vehicle Types Car has the most casualties with 75% (127894) of 2020 recorded.Car accidents is most likely to have more casualties than other of  vehicle types.</h2>"
   ]
  },
  {
   "cell_type": "code",
   "execution_count": 33,
   "id": "2aec60c6-4aa5-47e7-9359-dadba8612e89",
   "metadata": {},
   "outputs": [],
   "source": [
    "casualty_2020 = df_2020.groupby(['Vehicle_Type'])['Number_of_Casualties'].count()"
   ]
  },
  {
   "cell_type": "code",
   "execution_count": 34,
   "id": "f42960f4-33ad-434c-95e0-f1ca84506c1b",
   "metadata": {},
   "outputs": [
    {
     "data": {
      "text/plain": [
       "Vehicle_Type\n",
       "Agricultural vehicle                        562\n",
       "Bus or coach (17 or more pass seats)       6709\n",
       "Car                                      127894\n",
       "Data missing or out of range                  6\n",
       "Goods 7.5 tonnes mgw and over              4528\n",
       "Goods over 3.5t. and under 7.5t            1545\n",
       "Minibus (8 - 16 passenger seats)            530\n",
       "Motorcycle 125cc and under                 4104\n",
       "Motorcycle 50cc and under                  1764\n",
       "Motorcycle over 125cc and up to 500cc      1925\n",
       "Motorcycle over 500cc                      6745\n",
       "Other vehicle                              1533\n",
       "Pedal cycle                                  63\n",
       "Ridden horse                                  0\n",
       "Taxi/Private hire car                      3521\n",
       "Van / Goods 3.5 tonnes mgw or under        9162\n",
       "Name: Number_of_Casualties, dtype: int64"
      ]
     },
     "execution_count": 34,
     "metadata": {},
     "output_type": "execute_result"
    }
   ],
   "source": [
    "casualty_2020"
   ]
  },
  {
   "cell_type": "markdown",
   "id": "482afbc3-2528-47a6-82a7-a9002cd80a65",
   "metadata": {},
   "source": [
    "<h1>Insight No.2</h1>\n",
    "\n",
    "<h2>The number of 2020 Car casualties in a Single Carriage way is 75%(94884).Car accidents most likely to happen in a single carriage way.</h2>"
   ]
  },
  {
   "cell_type": "code",
   "execution_count": 35,
   "id": "ede2db1b-afbe-4887-be35-51a5d30795cf",
   "metadata": {},
   "outputs": [
    {
     "data": {
      "text/plain": [
       "Road_Type\n",
       "Single carriageway    492143\n",
       "Dual carriageway       99424\n",
       "Roundabout             43992\n",
       "One way street         13559\n",
       "Slip road               7041\n",
       "unaccounted             4520\n",
       "Name: count, dtype: int64"
      ]
     },
     "execution_count": 35,
     "metadata": {},
     "output_type": "execute_result"
    }
   ],
   "source": [
    "accident['Road_Type'].value_counts()"
   ]
  },
  {
   "cell_type": "code",
   "execution_count": 54,
   "id": "abf4abcb-9dc9-48f4-a1b2-cf159256c5fc",
   "metadata": {},
   "outputs": [
    {
     "data": {
      "text/plain": [
       "Index          Accident_Severity  Accident Date  Latitude   Light_Conditions        District Area   Longitude  Number_of_Casualties  Number_of_Vehicles  Road_Surface_Conditions  Road_Type           Urban_or_Rural_Area  Weather_Conditions  Vehicle_Type                          Year  Monthly  day  DayOfWeek\n",
       "2.01E+12       Slight             2020-02-21     57.441143  Darkness - no lighting  Aberdeenshire   -2.779445  2                     2                   Dry                      Single carriageway  Rural                Fine + high winds   Car                                   2020  2        21   4            2\n",
       "                                  2020-12-27     52.659891  Daylight                Rutland         -0.548061  2                     3                   Frost or ice             Single carriageway  Rural                Fine no high winds  Car                                   2020  12       27   6            2\n",
       "                                  2020-07-30     50.853668  Daylight                Lewes            0.082359  1                     2                   Dry                      Single carriageway  Rural                Fine no high winds  Car                                   2020  7        30   3            2\n",
       "2.01E+110      Slight             2020-01-05     50.854071  Daylight                North Dorset    -2.153399  2                     1                   Wet or damp              Single carriageway  Rural                Fine no high winds  Car                                   2020  1        5    6            1\n",
       "2.01E+113      Serious            2020-01-06     50.786711  Darkness - lights lit   East Dorset     -2.059834  3                     5                   Wet or damp              Single carriageway  Rural                Fine no high winds  Car                                   2020  1        6    0            1\n",
       "                                                                                                                                                                                                                                                                                                                     ..\n",
       "200897UD70408  Serious            2020-08-07     55.369592  Daylight                South Ayrshire  -4.652882  2                     3                   Wet or damp              Single carriageway  Rural                Fine no high winds  Car                                   2020  8        7    4            1\n",
       "200897UD70412  Slight             2020-12-01     55.425670  Darkness - lights lit   South Ayrshire  -4.616021  1                     2                   Wet or damp              Single carriageway  Rural                Fine no high winds  Bus or coach (17 or more pass seats)  2020  12       1    1            1\n",
       "200897UD70504  Slight             2020-04-26     55.490342  Darkness - no lighting  South Ayrshire  -4.550172  1                     1                   Wet or damp              Single carriageway  Rural                Fine no high winds  Car                                   2020  4        26   6            1\n",
       "200897UD70507  Serious            2020-07-14     55.451521  Daylight                South Ayrshire  -4.558263  1                     2                   Wet or damp              Single carriageway  Rural                Fine no high winds  Bus or coach (17 or more pass seats)  2020  7        14   1            1\n",
       "2.01E+11       Fatal              2020-01-31     51.901579  Darkness - lights lit   Stevege         -0.168104  1                     1                   Dry                      Single carriageway  Urban                Fine + high winds   Car                                   2020  1        31   4            1\n",
       "Name: count, Length: 126630, dtype: int64"
      ]
     },
     "execution_count": 54,
     "metadata": {},
     "output_type": "execute_result"
    }
   ],
   "source": [
    "df_exam_roadtype.value_counts()"
   ]
  },
  {
   "cell_type": "code",
   "execution_count": 37,
   "id": "ea420a16-22b1-4433-8913-19b1bb27383d",
   "metadata": {},
   "outputs": [],
   "source": [
    "df_exam = accident.groupby(['Road_Type'])['Number_of_Vehicles'].count()"
   ]
  },
  {
   "cell_type": "code",
   "execution_count": 38,
   "id": "132564e7-1526-4d25-8af4-e8aaf38c1643",
   "metadata": {},
   "outputs": [],
   "source": [
    "df_exam_roadtype = df_2020[df_2020['Road_Type'] == 'Single carriageway']"
   ]
  },
  {
   "cell_type": "code",
   "execution_count": 39,
   "id": "bb81230e-c3f6-4751-ac50-466e046c4452",
   "metadata": {},
   "outputs": [],
   "source": [
    "df_exam_roadtype1 = df_exam_roadtype.groupby(['Vehicle_Type'])['Number_of_Casualties'].count()"
   ]
  },
  {
   "cell_type": "code",
   "execution_count": 40,
   "id": "da29110b-5297-4d24-be2b-a583e3320a64",
   "metadata": {},
   "outputs": [
    {
     "data": {
      "text/plain": [
       "Vehicle_Type\n",
       "Agricultural vehicle                       415\n",
       "Bus or coach (17 or more pass seats)      4968\n",
       "Car                                      94884\n",
       "Data missing or out of range                 5\n",
       "Goods 7.5 tonnes mgw and over             3409\n",
       "Goods over 3.5t. and under 7.5t           1149\n",
       "Minibus (8 - 16 passenger seats)           396\n",
       "Motorcycle 125cc and under                3097\n",
       "Motorcycle 50cc and under                 1353\n",
       "Motorcycle over 125cc and up to 500cc     1432\n",
       "Motorcycle over 500cc                     4954\n",
       "Other vehicle                             1137\n",
       "Pedal cycle                                 42\n",
       "Ridden horse                                 0\n",
       "Taxi/Private hire car                     2638\n",
       "Van / Goods 3.5 tonnes mgw or under       6754\n",
       "Name: Number_of_Casualties, dtype: int64"
      ]
     },
     "execution_count": 40,
     "metadata": {},
     "output_type": "execute_result"
    }
   ],
   "source": [
    "df_exam_roadtype1"
   ]
  },
  {
   "cell_type": "code",
   "execution_count": 49,
   "id": "8fb82f08-5885-47c4-bb5c-a6fb59d329b1",
   "metadata": {},
   "outputs": [
    {
     "data": {
      "text/html": [
       "<div>\n",
       "<style scoped>\n",
       "    .dataframe tbody tr th:only-of-type {\n",
       "        vertical-align: middle;\n",
       "    }\n",
       "\n",
       "    .dataframe tbody tr th {\n",
       "        vertical-align: top;\n",
       "    }\n",
       "\n",
       "    .dataframe thead th {\n",
       "        text-align: right;\n",
       "    }\n",
       "</style>\n",
       "<table border=\"1\" class=\"dataframe\">\n",
       "  <thead>\n",
       "    <tr style=\"text-align: right;\">\n",
       "      <th>Road_Type</th>\n",
       "      <th>Dual carriageway</th>\n",
       "      <th>One way street</th>\n",
       "      <th>Roundabout</th>\n",
       "      <th>Single carriageway</th>\n",
       "      <th>Slip road</th>\n",
       "      <th>unaccounted</th>\n",
       "    </tr>\n",
       "    <tr>\n",
       "      <th>Vehicle_Type</th>\n",
       "      <th></th>\n",
       "      <th></th>\n",
       "      <th></th>\n",
       "      <th></th>\n",
       "      <th></th>\n",
       "      <th></th>\n",
       "    </tr>\n",
       "  </thead>\n",
       "  <tbody>\n",
       "    <tr>\n",
       "      <th>Agricultural vehicle</th>\n",
       "      <td>293</td>\n",
       "      <td>49</td>\n",
       "      <td>129</td>\n",
       "      <td>1436</td>\n",
       "      <td>27</td>\n",
       "      <td>13</td>\n",
       "    </tr>\n",
       "    <tr>\n",
       "      <th>Bus or coach (17 or more pass seats)</th>\n",
       "      <td>4043</td>\n",
       "      <td>546</td>\n",
       "      <td>1704</td>\n",
       "      <td>19090</td>\n",
       "      <td>285</td>\n",
       "      <td>210</td>\n",
       "    </tr>\n",
       "    <tr>\n",
       "      <th>Car</th>\n",
       "      <td>74820</td>\n",
       "      <td>10223</td>\n",
       "      <td>33187</td>\n",
       "      <td>371028</td>\n",
       "      <td>5298</td>\n",
       "      <td>3436</td>\n",
       "    </tr>\n",
       "    <tr>\n",
       "      <th>Data missing or out of range</th>\n",
       "      <td>1</td>\n",
       "      <td>0</td>\n",
       "      <td>0</td>\n",
       "      <td>5</td>\n",
       "      <td>0</td>\n",
       "      <td>0</td>\n",
       "    </tr>\n",
       "    <tr>\n",
       "      <th>Goods 7.5 tonnes mgw and over</th>\n",
       "      <td>2631</td>\n",
       "      <td>341</td>\n",
       "      <td>1110</td>\n",
       "      <td>12915</td>\n",
       "      <td>188</td>\n",
       "      <td>122</td>\n",
       "    </tr>\n",
       "    <tr>\n",
       "      <th>Goods over 3.5t. and under 7.5t</th>\n",
       "      <td>959</td>\n",
       "      <td>116</td>\n",
       "      <td>422</td>\n",
       "      <td>4498</td>\n",
       "      <td>58</td>\n",
       "      <td>43</td>\n",
       "    </tr>\n",
       "    <tr>\n",
       "      <th>Minibus (8 - 16 passenger seats)</th>\n",
       "      <td>275</td>\n",
       "      <td>40</td>\n",
       "      <td>138</td>\n",
       "      <td>1493</td>\n",
       "      <td>16</td>\n",
       "      <td>14</td>\n",
       "    </tr>\n",
       "    <tr>\n",
       "      <th>Motorcycle 125cc and under</th>\n",
       "      <td>2228</td>\n",
       "      <td>307</td>\n",
       "      <td>991</td>\n",
       "      <td>11507</td>\n",
       "      <td>147</td>\n",
       "      <td>89</td>\n",
       "    </tr>\n",
       "    <tr>\n",
       "      <th>Motorcycle 50cc and under</th>\n",
       "      <td>1085</td>\n",
       "      <td>133</td>\n",
       "      <td>512</td>\n",
       "      <td>5743</td>\n",
       "      <td>89</td>\n",
       "      <td>41</td>\n",
       "    </tr>\n",
       "    <tr>\n",
       "      <th>Motorcycle over 125cc and up to 500cc</th>\n",
       "      <td>1210</td>\n",
       "      <td>154</td>\n",
       "      <td>493</td>\n",
       "      <td>5659</td>\n",
       "      <td>98</td>\n",
       "      <td>42</td>\n",
       "    </tr>\n",
       "    <tr>\n",
       "      <th>Motorcycle over 500cc</th>\n",
       "      <td>3930</td>\n",
       "      <td>499</td>\n",
       "      <td>1737</td>\n",
       "      <td>19050</td>\n",
       "      <td>284</td>\n",
       "      <td>157</td>\n",
       "    </tr>\n",
       "    <tr>\n",
       "      <th>Other vehicle</th>\n",
       "      <td>835</td>\n",
       "      <td>130</td>\n",
       "      <td>386</td>\n",
       "      <td>4165</td>\n",
       "      <td>64</td>\n",
       "      <td>57</td>\n",
       "    </tr>\n",
       "    <tr>\n",
       "      <th>Pedal cycle</th>\n",
       "      <td>34</td>\n",
       "      <td>4</td>\n",
       "      <td>16</td>\n",
       "      <td>139</td>\n",
       "      <td>2</td>\n",
       "      <td>2</td>\n",
       "    </tr>\n",
       "    <tr>\n",
       "      <th>Ridden horse</th>\n",
       "      <td>0</td>\n",
       "      <td>0</td>\n",
       "      <td>0</td>\n",
       "      <td>4</td>\n",
       "      <td>0</td>\n",
       "      <td>0</td>\n",
       "    </tr>\n",
       "    <tr>\n",
       "      <th>Taxi/Private hire car</th>\n",
       "      <td>1973</td>\n",
       "      <td>294</td>\n",
       "      <td>873</td>\n",
       "      <td>9951</td>\n",
       "      <td>124</td>\n",
       "      <td>79</td>\n",
       "    </tr>\n",
       "    <tr>\n",
       "      <th>Van / Goods 3.5 tonnes mgw or under</th>\n",
       "      <td>5107</td>\n",
       "      <td>723</td>\n",
       "      <td>2294</td>\n",
       "      <td>25460</td>\n",
       "      <td>361</td>\n",
       "      <td>215</td>\n",
       "    </tr>\n",
       "  </tbody>\n",
       "</table>\n",
       "</div>"
      ],
      "text/plain": [
       "Road_Type                              Dual carriageway  One way street  \\\n",
       "Vehicle_Type                                                              \n",
       "Agricultural vehicle                                293              49   \n",
       "Bus or coach (17 or more pass seats)               4043             546   \n",
       "Car                                               74820           10223   \n",
       "Data missing or out of range                          1               0   \n",
       "Goods 7.5 tonnes mgw and over                      2631             341   \n",
       "Goods over 3.5t. and under 7.5t                     959             116   \n",
       "Minibus (8 - 16 passenger seats)                    275              40   \n",
       "Motorcycle 125cc and under                         2228             307   \n",
       "Motorcycle 50cc and under                          1085             133   \n",
       "Motorcycle over 125cc and up to 500cc              1210             154   \n",
       "Motorcycle over 500cc                              3930             499   \n",
       "Other vehicle                                       835             130   \n",
       "Pedal cycle                                          34               4   \n",
       "Ridden horse                                          0               0   \n",
       "Taxi/Private hire car                              1973             294   \n",
       "Van / Goods 3.5 tonnes mgw or under                5107             723   \n",
       "\n",
       "Road_Type                              Roundabout  Single carriageway  \\\n",
       "Vehicle_Type                                                            \n",
       "Agricultural vehicle                          129                1436   \n",
       "Bus or coach (17 or more pass seats)         1704               19090   \n",
       "Car                                         33187              371028   \n",
       "Data missing or out of range                    0                   5   \n",
       "Goods 7.5 tonnes mgw and over                1110               12915   \n",
       "Goods over 3.5t. and under 7.5t               422                4498   \n",
       "Minibus (8 - 16 passenger seats)              138                1493   \n",
       "Motorcycle 125cc and under                    991               11507   \n",
       "Motorcycle 50cc and under                     512                5743   \n",
       "Motorcycle over 125cc and up to 500cc         493                5659   \n",
       "Motorcycle over 500cc                        1737               19050   \n",
       "Other vehicle                                 386                4165   \n",
       "Pedal cycle                                    16                 139   \n",
       "Ridden horse                                    0                   4   \n",
       "Taxi/Private hire car                         873                9951   \n",
       "Van / Goods 3.5 tonnes mgw or under          2294               25460   \n",
       "\n",
       "Road_Type                              Slip road  unaccounted  \n",
       "Vehicle_Type                                                   \n",
       "Agricultural vehicle                          27           13  \n",
       "Bus or coach (17 or more pass seats)         285          210  \n",
       "Car                                         5298         3436  \n",
       "Data missing or out of range                   0            0  \n",
       "Goods 7.5 tonnes mgw and over                188          122  \n",
       "Goods over 3.5t. and under 7.5t               58           43  \n",
       "Minibus (8 - 16 passenger seats)              16           14  \n",
       "Motorcycle 125cc and under                   147           89  \n",
       "Motorcycle 50cc and under                     89           41  \n",
       "Motorcycle over 125cc and up to 500cc         98           42  \n",
       "Motorcycle over 500cc                        284          157  \n",
       "Other vehicle                                 64           57  \n",
       "Pedal cycle                                    2            2  \n",
       "Ridden horse                                   0            0  \n",
       "Taxi/Private hire car                        124           79  \n",
       "Van / Goods 3.5 tonnes mgw or under          361          215  "
      ]
     },
     "execution_count": 49,
     "metadata": {},
     "output_type": "execute_result"
    }
   ],
   "source": [
    "accident.groupby(['Vehicle_Type','Road_Type'])['Number_of_Casualties'].count().unstack()"
   ]
  },
  {
   "cell_type": "markdown",
   "id": "b845b594-805f-43a2-88e6-70d76d047c31",
   "metadata": {},
   "source": [
    "<h1>Insight No.3</h1>\n",
    "\n",
    "<h2>The Lowest Vehicle Type Casualties is Pedal with 0.04%(6)</h2>"
   ]
  },
  {
   "cell_type": "code",
   "execution_count": 42,
   "id": "95a45c09-e58a-4c57-bb5b-14cf0542ade0",
   "metadata": {},
   "outputs": [],
   "source": [
    "df_january_2020 = accident[(accident['Monthly'] == 1) & (accident['Year'] == 2020)]"
   ]
  },
  {
   "cell_type": "code",
   "execution_count": 43,
   "id": "3443a46f-489d-41c0-9c42-1001256e37a0",
   "metadata": {},
   "outputs": [
    {
     "data": {
      "text/plain": [
       "Index          Accident_Severity  Accident Date  Latitude   Light_Conditions        District Area       Longitude  Number_of_Casualties  Number_of_Vehicles  Road_Surface_Conditions  Road_Type           Urban_or_Rural_Area  Weather_Conditions     Vehicle_Type                           Year  Monthly  day  DayOfWeek\n",
       "200897UD71201  Slight             2020-01-29     55.440266  Daylight                South Ayrshire      -4.601807  1                     2                   Wet or damp              Single carriageway  Rural                Fine no high winds     Motorcycle over 125cc and up to 500cc  2020  1        29   2            1\n",
       "2.01E+09       Slight             2020-01-09     51.913832  Darkness - lights lit   Stevenage           -0.192906  1                     2                   Dry                      Single carriageway  Urban                Fine no high winds     Car                                    2020  1        9    3            1\n",
       "2.01E+11       Fatal              2020-01-31     51.901579  Darkness - lights lit   Stevege             -0.168104  1                     1                   Dry                      Single carriageway  Urban                Fine + high winds      Car                                    2020  1        31   4            1\n",
       "2.01E+110      Slight             2020-01-05     50.854071  Daylight                North Dorset        -2.153399  2                     1                   Wet or damp              Single carriageway  Rural                Fine no high winds     Car                                    2020  1        5    6            1\n",
       "2.01E+113      Serious            2020-01-06     50.786711  Darkness - lights lit   East Dorset         -2.059834  3                     5                   Wet or damp              Single carriageway  Rural                Fine no high winds     Car                                    2020  1        6    0            1\n",
       "                                                                                                                                                                                                                                                                                                                             ..\n",
       "2.01E+12       Fatal              2020-01-04     50.670912  Darkness - no lighting  Isle of Wight       -1.442127  1                     2                   Wet or damp              Single carriageway  Rural                Raining no high winds  Car                                    2020  1        4    5            1\n",
       "                                  2020-01-03     56.743786  Daylight                Angus               -2.663745  1                     1                   Frost or ice             Dual carriageway    Rural                Snowing no high winds  Car                                    2020  1        3    4            1\n",
       "                                  2020-01-02     51.303109  Darkness - no lighting  Rushmoor            -0.789827  1                     3                   Wet or damp              Dual carriageway    Urban                Fine no high winds     Car                                    2020  1        2    3            1\n",
       "                                  2020-01-01     53.792019  Darkness - lights lit   Bradford            -1.774696  2                     1                   Wet or damp              Single carriageway  Urban                Fine no high winds     Car                                    2020  1        1    2            1\n",
       "                                                 53.092362  Darkness - lights lit   Crewe and Nantwich  -2.441524  1                     1                   Wet or damp              Single carriageway  Urban                Fine no high winds     Car                                    2020  1        1    2            1\n",
       "Name: count, Length: 14133, dtype: int64"
      ]
     },
     "execution_count": 43,
     "metadata": {},
     "output_type": "execute_result"
    }
   ],
   "source": [
    "df_january_2020.value_counts()"
   ]
  },
  {
   "cell_type": "code",
   "execution_count": 50,
   "id": "b7d47ad0-0efa-40fb-b950-a7f361ea53a2",
   "metadata": {},
   "outputs": [
    {
     "data": {
      "text/plain": [
       "Vehicle_Type\n",
       "Agricultural vehicle                        40\n",
       "Bus or coach (17 or more pass seats)       629\n",
       "Car                                      10606\n",
       "Data missing or out of range                 0\n",
       "Goods 7.5 tonnes mgw and over              382\n",
       "Goods over 3.5t. and under 7.5t            135\n",
       "Minibus (8 - 16 passenger seats)            34\n",
       "Motorcycle 125cc and under                 318\n",
       "Motorcycle 50cc and under                  137\n",
       "Motorcycle over 125cc and up to 500cc      146\n",
       "Motorcycle over 500cc                      565\n",
       "Other vehicle                              103\n",
       "Pedal cycle                                  6\n",
       "Ridden horse                                 0\n",
       "Taxi/Private hire car                      283\n",
       "Van / Goods 3.5 tonnes mgw or under        749\n",
       "Name: Number_of_Casualties, dtype: int64"
      ]
     },
     "execution_count": 50,
     "metadata": {},
     "output_type": "execute_result"
    }
   ],
   "source": [
    "df_january_2020.groupby(['Vehicle_Type'])['Number_of_Casualties'].count()"
   ]
  },
  {
   "cell_type": "markdown",
   "id": "8f908647-662d-4364-88d6-b26581e96308",
   "metadata": {},
   "source": [
    "<h1>Insight No.4</h1>\n",
    "\n",
    "<h2>The highest Casualties for January is Car with 75%(10606)</h2>"
   ]
  },
  {
   "cell_type": "markdown",
   "id": "8397378c-db33-4031-aee2-2142857b9e17",
   "metadata": {},
   "source": [
    "<h1>Insight No.5</h1>\n",
    "\n",
    "<h2>The Second Highest Casualties for January is Van / Goods 3.5 tonnes mgw or under with 5%(749)</h2>"
   ]
  },
  {
   "cell_type": "markdown",
   "id": "076f7fb6-2b61-46ea-9ffc-63f93007be94",
   "metadata": {},
   "source": [
    "<h1>Insight No.6</h1>\n",
    "\n",
    "<h2>Car Mostly likely to get more Casualties than the other vehicle type in January</h2>"
   ]
  },
  {
   "cell_type": "code",
   "execution_count": 59,
   "id": "8c4b157d-f75c-4772-b674-55a72ec7d464",
   "metadata": {},
   "outputs": [],
   "source": [
    "df_test = df_january_2020.groupby(['Vehicle_Type','Accident_Severity'])['Number_of_Casualties'].count()"
   ]
  },
  {
   "cell_type": "code",
   "execution_count": 74,
   "id": "8656e0eb-05bd-4279-b28d-3a22bf693280",
   "metadata": {},
   "outputs": [
    {
     "data": {
      "text/plain": [
       "Vehicle_Type                           Accident_Severity\n",
       "Agricultural vehicle                   Fatal                   0\n",
       "                                       Serious                 6\n",
       "                                       Slight                 34\n",
       "Bus or coach (17 or more pass seats)   Fatal                   7\n",
       "                                       Serious                64\n",
       "                                       Slight                558\n",
       "Car                                    Fatal                 149\n",
       "                                       Serious              1350\n",
       "                                       Slight               9107\n",
       "Data missing or out of range           Fatal                   0\n",
       "                                       Serious                 0\n",
       "                                       Slight                  0\n",
       "Goods 7.5 tonnes mgw and over          Fatal                   8\n",
       "                                       Serious                53\n",
       "                                       Slight                321\n",
       "Goods over 3.5t. and under 7.5t        Fatal                   2\n",
       "                                       Serious                17\n",
       "                                       Slight                116\n",
       "Minibus (8 - 16 passenger seats)       Fatal                   0\n",
       "                                       Serious                 4\n",
       "                                       Slight                 30\n",
       "Motorcycle 125cc and under             Fatal                   3\n",
       "                                       Serious                44\n",
       "                                       Slight                271\n",
       "Motorcycle 50cc and under              Fatal                   1\n",
       "                                       Serious                14\n",
       "                                       Slight                122\n",
       "Motorcycle over 125cc and up to 500cc  Fatal                   2\n",
       "                                       Serious                14\n",
       "                                       Slight                130\n",
       "Motorcycle over 500cc                  Fatal                  11\n",
       "                                       Serious                84\n",
       "                                       Slight                470\n",
       "Other vehicle                          Fatal                   5\n",
       "                                       Serious                15\n",
       "                                       Slight                 83\n",
       "Pedal cycle                            Fatal                   0\n",
       "                                       Serious                 2\n",
       "                                       Slight                  4\n",
       "Ridden horse                           Fatal                   0\n",
       "                                       Serious                 0\n",
       "                                       Slight                  0\n",
       "Taxi/Private hire car                  Fatal                   9\n",
       "                                       Serious                33\n",
       "                                       Slight                241\n",
       "Van / Goods 3.5 tonnes mgw or under    Fatal                  11\n",
       "                                       Serious                96\n",
       "                                       Slight                642\n",
       "Name: Number_of_Casualties, dtype: int64"
      ]
     },
     "execution_count": 74,
     "metadata": {},
     "output_type": "execute_result"
    }
   ],
   "source": [
    "df_test"
   ]
  },
  {
   "cell_type": "markdown",
   "id": "983bdc2d-223e-4ca3-8dc9-39385f4670e4",
   "metadata": {},
   "source": [
    "<h1>Insight No.7</h1>\n",
    "\n",
    "<h2>Most Accidents Are Minor – The majority of car accidents in the UK from January 2020 resulted in slight severity, accounting for 86% (9,107 accidents). This suggests that while collisions are frequent, most do not lead to severe injuries.</h2>"
   ]
  },
  {
   "cell_type": "markdown",
   "id": "5947a0b0-a0aa-488b-bed5-fe60fc30c4cc",
   "metadata": {},
   "source": [
    "<h1>Insight No.8</h1>\n",
    "\n",
    "<h2>Serious Accidents Are Less Common but Significant – 13% (1,350 accidents) were classified as serious severity, indicating a notable number of incidents where injuries were more severe, requiring medical attention or hospitalization.</h2>"
   ]
  },
  {
   "cell_type": "markdown",
   "id": "b09d0cd7-ea27-4a56-bf1e-397b862a0d73",
   "metadata": {},
   "source": [
    "<h1>Insight No.9</h1>\n",
    "\n",
    "<h2>Fatal Accidents Are Rare but Impactful – Fatal accidents accounted for only 1.4% (149 accidents), highlighting that while rare, these incidents have the most severe consequences, emphasizing the need for continuous road safety measures.</h2>"
   ]
  },
  {
   "cell_type": "code",
   "execution_count": 83,
   "id": "fd2e05ae-e67f-4cf4-8d2a-b70a528f1d77",
   "metadata": {},
   "outputs": [],
   "source": [
    "df_february_2020 = accident[(accident['Monthly'] == 2) & (accident['Year'] == 2020)]"
   ]
  },
  {
   "cell_type": "code",
   "execution_count": 84,
   "id": "a84e5782-19e8-4c0e-98e1-0e2d2ed56b23",
   "metadata": {},
   "outputs": [],
   "source": [
    "df_test1 = df_february_2020.groupby(['Vehicle_Type','Accident_Severity'])['Number_of_Casualties'].count()"
   ]
  },
  {
   "cell_type": "code",
   "execution_count": 85,
   "id": "dbe9c715-605d-4a71-8056-37e0a1d5c213",
   "metadata": {},
   "outputs": [
    {
     "data": {
      "text/plain": [
       "Vehicle_Type                           Accident_Severity\n",
       "Agricultural vehicle                   Fatal                   0\n",
       "                                       Serious                 6\n",
       "                                       Slight                 42\n",
       "Bus or coach (17 or more pass seats)   Fatal                  10\n",
       "                                       Serious                68\n",
       "                                       Slight                474\n",
       "Car                                    Fatal                 129\n",
       "                                       Serious              1447\n",
       "                                       Slight               9200\n",
       "Data missing or out of range           Fatal                   0\n",
       "                                       Serious                 0\n",
       "                                       Slight                  0\n",
       "Goods 7.5 tonnes mgw and over          Fatal                   4\n",
       "                                       Serious                47\n",
       "                                       Slight                317\n",
       "Goods over 3.5t. and under 7.5t        Fatal                   1\n",
       "                                       Serious                14\n",
       "                                       Slight                105\n",
       "Minibus (8 - 16 passenger seats)       Fatal                   0\n",
       "                                       Serious                11\n",
       "                                       Slight                 44\n",
       "Motorcycle 125cc and under             Fatal                   2\n",
       "                                       Serious                53\n",
       "                                       Slight                330\n",
       "Motorcycle 50cc and under              Fatal                   3\n",
       "                                       Serious                17\n",
       "                                       Slight                125\n",
       "Motorcycle over 125cc and up to 500cc  Fatal                   2\n",
       "                                       Serious                26\n",
       "                                       Slight                122\n",
       "Motorcycle over 500cc                  Fatal                   6\n",
       "                                       Serious                69\n",
       "                                       Slight                491\n",
       "Other vehicle                          Fatal                   0\n",
       "                                       Serious                24\n",
       "                                       Slight                111\n",
       "Pedal cycle                            Fatal                   0\n",
       "                                       Serious                 1\n",
       "                                       Slight                  6\n",
       "Ridden horse                           Fatal                   0\n",
       "                                       Serious                 0\n",
       "                                       Slight                  0\n",
       "Taxi/Private hire car                  Fatal                   0\n",
       "                                       Serious                39\n",
       "                                       Slight                250\n",
       "Van / Goods 3.5 tonnes mgw or under    Fatal                  12\n",
       "                                       Serious                90\n",
       "                                       Slight                655\n",
       "Name: Number_of_Casualties, dtype: int64"
      ]
     },
     "execution_count": 85,
     "metadata": {},
     "output_type": "execute_result"
    }
   ],
   "source": [
    "df_test1"
   ]
  },
  {
   "cell_type": "markdown",
   "id": "72fd6779-84a6-46e5-8025-839e8f8de741",
   "metadata": {},
   "source": [
    "<h1>Insight No.10</h1>\n",
    "\n",
    "<h2>February 2020</h2>\n",
    "<h2>Most Accidents Were Minor – Slight severity accidents made up 85.7% (9,200 accidents), reinforcing the trend that most collisions result in minor injuries or damage.</h2>"
   ]
  },
  {
   "cell_type": "markdown",
   "id": "18e204e8-d682-4a52-9083-0bd0b4346e3c",
   "metadata": {},
   "source": [
    "<h1>Insight No.11</h1>\n",
    "\n",
    "<h2>February 2020</h2>\n",
    "<h2>Serious Accidents Remained Notable – 13.5% (1,447 accidents) were categorized as serious severity, indicating a significant number of cases with severe injuries requiring medical intervention.</h2>"
   ]
  },
  {
   "cell_type": "markdown",
   "id": "668afe28-fa22-4344-acba-a1f916a6744b",
   "metadata": {},
   "source": [
    "<h1>Insight No.12</h1>\n",
    "\n",
    "<h2>February 2020</h2>\n",
    "<h2>Fatal Accidents Were Less Than 1.3% – 129 accidents (1.2%) resulted in fatalities, showing that while deadly crashes are rare, they still pose a critical concern for road safety improvements.</h2>"
   ]
  },
  {
   "cell_type": "code",
   "execution_count": 93,
   "id": "05764015-fbb6-43d6-b627-21864e8ee7dd",
   "metadata": {},
   "outputs": [],
   "source": [
    "df_test2 = (\n",
    "    df_february_2020.groupby(['Vehicle_Type', 'Accident_Severity'])['Number_of_Casualties'].count(),\n",
    "    df_january_2020.groupby(['Vehicle_Type', 'Accident_Severity'])['Number_of_Casualties'].count()\n",
    ")"
   ]
  },
  {
   "cell_type": "code",
   "execution_count": 98,
   "id": "72d20edb-8146-4aae-ba5c-760533180a25",
   "metadata": {},
   "outputs": [
    {
     "data": {
      "text/plain": [
       "(Vehicle_Type                           Accident_Severity\n",
       " Agricultural vehicle                   Fatal                   0\n",
       "                                        Serious                 6\n",
       "                                        Slight                 42\n",
       " Bus or coach (17 or more pass seats)   Fatal                  10\n",
       "                                        Serious                68\n",
       "                                        Slight                474\n",
       " Car                                    Fatal                 129\n",
       "                                        Serious              1447\n",
       "                                        Slight               9200\n",
       " Data missing or out of range           Fatal                   0\n",
       "                                        Serious                 0\n",
       "                                        Slight                  0\n",
       " Goods 7.5 tonnes mgw and over          Fatal                   4\n",
       "                                        Serious                47\n",
       "                                        Slight                317\n",
       " Goods over 3.5t. and under 7.5t        Fatal                   1\n",
       "                                        Serious                14\n",
       "                                        Slight                105\n",
       " Minibus (8 - 16 passenger seats)       Fatal                   0\n",
       "                                        Serious                11\n",
       "                                        Slight                 44\n",
       " Motorcycle 125cc and under             Fatal                   2\n",
       "                                        Serious                53\n",
       "                                        Slight                330\n",
       " Motorcycle 50cc and under              Fatal                   3\n",
       "                                        Serious                17\n",
       "                                        Slight                125\n",
       " Motorcycle over 125cc and up to 500cc  Fatal                   2\n",
       "                                        Serious                26\n",
       "                                        Slight                122\n",
       " Motorcycle over 500cc                  Fatal                   6\n",
       "                                        Serious                69\n",
       "                                        Slight                491\n",
       " Other vehicle                          Fatal                   0\n",
       "                                        Serious                24\n",
       "                                        Slight                111\n",
       " Pedal cycle                            Fatal                   0\n",
       "                                        Serious                 1\n",
       "                                        Slight                  6\n",
       " Ridden horse                           Fatal                   0\n",
       "                                        Serious                 0\n",
       "                                        Slight                  0\n",
       " Taxi/Private hire car                  Fatal                   0\n",
       "                                        Serious                39\n",
       "                                        Slight                250\n",
       " Van / Goods 3.5 tonnes mgw or under    Fatal                  12\n",
       "                                        Serious                90\n",
       "                                        Slight                655\n",
       " Name: Number_of_Casualties, dtype: int64,\n",
       " Vehicle_Type                           Accident_Severity\n",
       " Agricultural vehicle                   Fatal                   0\n",
       "                                        Serious                 6\n",
       "                                        Slight                 34\n",
       " Bus or coach (17 or more pass seats)   Fatal                   7\n",
       "                                        Serious                64\n",
       "                                        Slight                558\n",
       " Car                                    Fatal                 149\n",
       "                                        Serious              1350\n",
       "                                        Slight               9107\n",
       " Data missing or out of range           Fatal                   0\n",
       "                                        Serious                 0\n",
       "                                        Slight                  0\n",
       " Goods 7.5 tonnes mgw and over          Fatal                   8\n",
       "                                        Serious                53\n",
       "                                        Slight                321\n",
       " Goods over 3.5t. and under 7.5t        Fatal                   2\n",
       "                                        Serious                17\n",
       "                                        Slight                116\n",
       " Minibus (8 - 16 passenger seats)       Fatal                   0\n",
       "                                        Serious                 4\n",
       "                                        Slight                 30\n",
       " Motorcycle 125cc and under             Fatal                   3\n",
       "                                        Serious                44\n",
       "                                        Slight                271\n",
       " Motorcycle 50cc and under              Fatal                   1\n",
       "                                        Serious                14\n",
       "                                        Slight                122\n",
       " Motorcycle over 125cc and up to 500cc  Fatal                   2\n",
       "                                        Serious                14\n",
       "                                        Slight                130\n",
       " Motorcycle over 500cc                  Fatal                  11\n",
       "                                        Serious                84\n",
       "                                        Slight                470\n",
       " Other vehicle                          Fatal                   5\n",
       "                                        Serious                15\n",
       "                                        Slight                 83\n",
       " Pedal cycle                            Fatal                   0\n",
       "                                        Serious                 2\n",
       "                                        Slight                  4\n",
       " Ridden horse                           Fatal                   0\n",
       "                                        Serious                 0\n",
       "                                        Slight                  0\n",
       " Taxi/Private hire car                  Fatal                   9\n",
       "                                        Serious                33\n",
       "                                        Slight                241\n",
       " Van / Goods 3.5 tonnes mgw or under    Fatal                  11\n",
       "                                        Serious                96\n",
       "                                        Slight                642\n",
       " Name: Number_of_Casualties, dtype: int64)"
      ]
     },
     "execution_count": 98,
     "metadata": {},
     "output_type": "execute_result"
    }
   ],
   "source": [
    "df_test2"
   ]
  },
  {
   "cell_type": "markdown",
   "id": "7b523fd4-f1cf-4faa-ac46-7a34fa5e49f2",
   "metadata": {},
   "source": [
    "<h1>Insight No.13</h1>\n",
    "\n",
    "<h2>Slight Severity Accidents Increased Slightly – In January 2020, there were 9,107 slight accidents, which increased to 9,200 in February, a 1% rise. This suggests a consistent trend of minor collisions.</h2>"
   ]
  },
  {
   "cell_type": "markdown",
   "id": "83733006-173c-4441-8fdd-23957644500e",
   "metadata": {},
   "source": [
    "<h1>Insight No.14</h1>\n",
    "\n",
    "<h2>Serious Accidents Rose in February – Serious severity accidents increased from 1,350 in January to 1,447 in February, a 7.2% rise. This could indicate worsening road conditions, increased traffic, or other contributing factors.</h2>"
   ]
  },
  {
   "cell_type": "markdown",
   "id": "0b6233dd-0385-48f5-9664-e73b44d92174",
   "metadata": {},
   "source": [
    "<h1>Insight No.15</h1>\n",
    "\n",
    "<h2>Fatal Accidents Decreased Slightly – Fatal accidents dropped from 149 in January to 129 in February, a 13.4% decrease.</h2>"
   ]
  },
  {
   "cell_type": "code",
   "execution_count": 99,
   "id": "13ddf613-75e4-4f04-83c1-1093b6c84b10",
   "metadata": {},
   "outputs": [],
   "source": [
    "df_january_2021 = accident[(accident['Monthly'] == 1) & (accident['Year'] == 2021)]"
   ]
  },
  {
   "cell_type": "code",
   "execution_count": 100,
   "id": "38f22da8-b29e-4ade-a8f9-7fbfc6aa1566",
   "metadata": {},
   "outputs": [],
   "source": [
    "df_test3 = df_january_2021.groupby(['Vehicle_Type','Accident_Severity'])['Number_of_Casualties'].count()"
   ]
  },
  {
   "cell_type": "code",
   "execution_count": 101,
   "id": "a1fca789-3d4c-4a00-b2b0-f3616b644973",
   "metadata": {},
   "outputs": [
    {
     "data": {
      "text/plain": [
       "Vehicle_Type                           Accident_Severity\n",
       "Agricultural vehicle                   Fatal                   2\n",
       "                                       Serious                 4\n",
       "                                       Slight                 27\n",
       "Bus or coach (17 or more pass seats)   Fatal                   4\n",
       "                                       Serious                50\n",
       "                                       Slight                323\n",
       "Car                                    Fatal                 149\n",
       "                                       Serious              1357\n",
       "                                       Slight               9016\n",
       "Data missing or out of range           Fatal                   0\n",
       "                                       Serious                 0\n",
       "                                       Slight                  0\n",
       "Goods 7.5 tonnes mgw and over          Fatal                   4\n",
       "                                       Serious                33\n",
       "                                       Slight                237\n",
       "Goods over 3.5t. and under 7.5t        Fatal                   0\n",
       "                                       Serious                15\n",
       "                                       Slight                103\n",
       "Minibus (8 - 16 passenger seats)       Fatal                   0\n",
       "                                       Serious                 3\n",
       "                                       Slight                 34\n",
       "Motorcycle 125cc and under             Fatal                   3\n",
       "                                       Serious                34\n",
       "                                       Slight                229\n",
       "Motorcycle 50cc and under              Fatal                   3\n",
       "                                       Serious                20\n",
       "                                       Slight                142\n",
       "Motorcycle over 125cc and up to 500cc  Fatal                   6\n",
       "                                       Serious                18\n",
       "                                       Slight                142\n",
       "Motorcycle over 500cc                  Fatal                   8\n",
       "                                       Serious                62\n",
       "                                       Slight                420\n",
       "Other vehicle                          Fatal                   1\n",
       "                                       Serious                17\n",
       "                                       Slight                103\n",
       "Pedal cycle                            Fatal                   0\n",
       "                                       Serious                 0\n",
       "                                       Slight                  3\n",
       "Ridden horse                           Fatal                   0\n",
       "                                       Serious                 0\n",
       "                                       Slight                  1\n",
       "Taxi/Private hire car                  Fatal                   5\n",
       "                                       Serious                39\n",
       "                                       Slight                192\n",
       "Van / Goods 3.5 tonnes mgw or under    Fatal                   4\n",
       "                                       Serious                85\n",
       "                                       Slight                519\n",
       "Name: Number_of_Casualties, dtype: int64"
      ]
     },
     "execution_count": 101,
     "metadata": {},
     "output_type": "execute_result"
    }
   ],
   "source": [
    "df_test3"
   ]
  },
  {
   "cell_type": "markdown",
   "id": "0a227dc7-7708-4c6f-8a37-8e8b82be493d",
   "metadata": {},
   "source": [
    "<h1>Insight No.16</h1>\n",
    "\n",
    "<h2>Slight Severity Accidents Remain the Majority – 9,016 accidents (85.6%) were classified as slight severity, continuing the trend of minor collisions being the most frequent.</h2>"
   ]
  },
  {
   "cell_type": "markdown",
   "id": "dac769c5-1c71-4f12-a7c1-6fcb63844f15",
   "metadata": {},
   "source": [
    "<h1>Insight No.17</h1>\n",
    "\n",
    "<h2>Serious Accidents Slightly Increased – 1,357 accidents (12.9%) were classified as serious severity, indicating a small decrease compared to January 2020 (1,350 serious accidents, 13%).</h2>"
   ]
  },
  {
   "cell_type": "markdown",
   "id": "57a7d98e-2059-4b78-8d09-b04f90b54d5d",
   "metadata": {},
   "source": [
    "<h1>Insight No.18</h1>\n",
    "\n",
    "<h2>Fatal Accidents Remain the Same – 149 fatal accidents (1.4%) occurred in January 2021, the same as in January 2020, highlighting that fatal accident rates remained consistent despite changes in traffic patterns or regulations.</h2>"
   ]
  },
  {
   "cell_type": "code",
   "execution_count": 102,
   "id": "bcd72b87-d15d-4990-897b-2db1656f629c",
   "metadata": {},
   "outputs": [],
   "source": [
    "df_february_2021 = accident[(accident['Monthly'] == 2) & (accident['Year'] == 2021)]"
   ]
  },
  {
   "cell_type": "code",
   "execution_count": 103,
   "id": "744fa1c9-11c5-47cb-a522-870db2fafd7d",
   "metadata": {},
   "outputs": [],
   "source": [
    "df_test4 = df_february_2021.groupby(['Vehicle_Type','Accident_Severity'])['Number_of_Casualties'].count()"
   ]
  },
  {
   "cell_type": "code",
   "execution_count": 104,
   "id": "09570152-2d55-4a99-a704-60e64a988a63",
   "metadata": {},
   "outputs": [
    {
     "data": {
      "text/plain": [
       "Vehicle_Type                           Accident_Severity\n",
       "Agricultural vehicle                   Fatal                   1\n",
       "                                       Serious                 1\n",
       "                                       Slight                 29\n",
       "Bus or coach (17 or more pass seats)   Fatal                   5\n",
       "                                       Serious                36\n",
       "                                       Slight                258\n",
       "Car                                    Fatal                 122\n",
       "                                       Serious              1077\n",
       "                                       Slight               7325\n",
       "Data missing or out of range           Fatal                   0\n",
       "                                       Serious                 0\n",
       "                                       Slight                  0\n",
       "Goods 7.5 tonnes mgw and over          Fatal                   4\n",
       "                                       Serious                33\n",
       "                                       Slight                188\n",
       "Goods over 3.5t. and under 7.5t        Fatal                   2\n",
       "                                       Serious                17\n",
       "                                       Slight                 76\n",
       "Minibus (8 - 16 passenger seats)       Fatal                   0\n",
       "                                       Serious                 3\n",
       "                                       Slight                 23\n",
       "Motorcycle 125cc and under             Fatal                   3\n",
       "                                       Serious                26\n",
       "                                       Slight                213\n",
       "Motorcycle 50cc and under              Fatal                   1\n",
       "                                       Serious                24\n",
       "                                       Slight                121\n",
       "Motorcycle over 125cc and up to 500cc  Fatal                   3\n",
       "                                       Serious                19\n",
       "                                       Slight                134\n",
       "Motorcycle over 500cc                  Fatal                   6\n",
       "                                       Serious                56\n",
       "                                       Slight                317\n",
       "Other vehicle                          Fatal                   1\n",
       "                                       Serious                 6\n",
       "                                       Slight                 72\n",
       "Pedal cycle                            Fatal                   0\n",
       "                                       Serious                 0\n",
       "                                       Slight                  2\n",
       "Ridden horse                           Fatal                   0\n",
       "                                       Serious                 0\n",
       "                                       Slight                  0\n",
       "Taxi/Private hire car                  Fatal                   1\n",
       "                                       Serious                28\n",
       "                                       Slight                134\n",
       "Van / Goods 3.5 tonnes mgw or under    Fatal                   9\n",
       "                                       Serious                79\n",
       "                                       Slight                495\n",
       "Name: Number_of_Casualties, dtype: int64"
      ]
     },
     "execution_count": 104,
     "metadata": {},
     "output_type": "execute_result"
    }
   ],
   "source": [
    "df_test4"
   ]
  },
  {
   "cell_type": "markdown",
   "id": "5a3c8d33-e96e-4a00-a2b0-efc886a2d85f",
   "metadata": {},
   "source": [
    "<h1>Insight No.19</h1>\n",
    "\n",
    "<h2>Slight Accidents Remain the Majority but Decreased – 7,325 accidents (85.8%) were classified as slight severity, showing a notable decrease from February 2020 (9,200 slight accidents, 85.7%).</h2>"
   ]
  },
  {
   "cell_type": "markdown",
   "id": "9c4a24ad-7cda-4b6f-acdb-2f5459116a95",
   "metadata": {},
   "source": [
    "<h1>Insight No.20</h1>\n",
    "\n",
    "<h2>Serious Accidents Dropped Significantly – 1,077 accidents (12.6%) were classified as serious severity, marking a 25.6% decrease from February 2020 (1,447 serious accidents, 13.5%).</h2>"
   ]
  },
  {
   "cell_type": "markdown",
   "id": "82247e99-f1fb-4f20-8132-8c0faf78ba0f",
   "metadata": {},
   "source": [
    "<h1>Insight No.21</h1>\n",
    "\n",
    "<h2>Fewer Fatal Accidents – 122 fatal accidents (1.4%) occurred, which is 5.4% lower than February 2020 (129 fatal accidents, 1.2%), suggesting a slight improvement in road safety.</h2>"
   ]
  },
  {
   "cell_type": "markdown",
   "id": "0f4e12cf-4581-4717-8b51-66eaeb62145f",
   "metadata": {},
   "source": [
    "<h1>Fatal accidents showed a smaller decline but remained a concern for road safety.</h1>"
   ]
  },
  {
   "cell_type": "code",
   "execution_count": null,
   "id": "1865b241-1d72-4b02-b2ad-b3108839810e",
   "metadata": {},
   "outputs": [],
   "source": []
  }
 ],
 "metadata": {
  "kernelspec": {
   "display_name": "Python 3 (ipykernel)",
   "language": "python",
   "name": "python3"
  },
  "language_info": {
   "codemirror_mode": {
    "name": "ipython",
    "version": 3
   },
   "file_extension": ".py",
   "mimetype": "text/x-python",
   "name": "python",
   "nbconvert_exporter": "python",
   "pygments_lexer": "ipython3",
   "version": "3.13.2"
  }
 },
 "nbformat": 4,
 "nbformat_minor": 5
}
